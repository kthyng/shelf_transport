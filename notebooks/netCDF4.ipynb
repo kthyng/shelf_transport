{
 "metadata": {
  "name": ""
 },
 "nbformat": 3,
 "nbformat_minor": 0,
 "worksheets": [
  {
   "cells": [
    {
     "cell_type": "markdown",
     "metadata": {},
     "source": [
      "# Testing netCDF4 for Drifter Tracks\n",
      "\n",
      "I had been using various versions of netCDF3 for storing drifter tracks. But, we had discussed using netCDF4 for improving storage via compression. Also to potentially use multiple unlimited dimensions. One reason I was holding back was that I had read I would not be able to use MFDataset to combine drifter tracks if I switched to netCDF4. When I started doing simulations with more and more drifters recently, things were really getting bogged down, so I decided it was worth the time to investigate.\n",
      "\n",
      "Big picture: netCDF4-CLASSIC works well for my purposes so far and is a big improvement over netCDF3.\n",
      "\n",
      "netCDF4-CLASSIC combines many of the good parts of netCDF3 with some of the abilities of netCDF4. It allows for compression. It does not allow for multiple unlimited dimensions, but I haven't needed that. It does allow for the use of MFDataset for aggregation. It also sped up the process of saving by a huge amount, which for some reason was getting massively bogged down with the large number of drifters being used recently.\n",
      "\n",
      "I opted to stick with 64 bit format for saving the tracks and lossless compression of information."
     ]
    },
    {
     "cell_type": "markdown",
     "metadata": {},
     "source": [
      "## Test\n",
      "\n",
      "I ran the shelf_transport project with 1km initial spacing throughout the domain with no volume transport for 2004-01-01 (drifters run for 30 days). This results in a large amount of output and really slowed down getting through runs previously, using netCDF3_64bit."
     ]
    },
    {
     "cell_type": "markdown",
     "metadata": {},
     "source": [
      "## Results\n",
      "\n",
      "Note that the simulation run time does not include time for saving the tracks\n",
      "\n",
      "|  netCDF3_64BIT | netCDF4-CLASSIC | % decrease in 4C\n",
      " ------------ | \n",
      "Simulation run time | 1038 | 1038 | 0\n",
      "File save time | 3527 | 131 | 96\n",
      "File size (GB) | 3.6 | 2.1 | 42\n",
      "\n"
     ]
    },
    {
     "cell_type": "markdown",
     "metadata": {},
     "source": [
      "## More Information\n",
      "\n",
      "* Really useful netCDF4 resource: http://www.unidata.ucar.edu/software/netcdf/workshops/2012/netcdf_python/netcdf4python.pdf\n",
      "* Info about the \"classic\" file format: http://www.unidata.ucar.edu/software/netcdf/docs/netcdf/NetCDF_002d4-Classic-Model-Format.html\n"
     ]
    },
    {
     "cell_type": "code",
     "collapsed": false,
     "input": [],
     "language": "python",
     "metadata": {},
     "outputs": []
    }
   ],
   "metadata": {}
  }
 ]
}